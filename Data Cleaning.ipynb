{
 "cells": [
  {
   "cell_type": "code",
   "execution_count": 76,
   "id": "a8c490bb",
   "metadata": {},
   "outputs": [],
   "source": [
    "import pandas as pd\n",
    "import seaborn as sb\n",
    "import matplotlib.pyplot as plt\n",
    "%matplotlib inline\n",
    "import numpy as np\n",
    "import warnings\n",
    "warnings.simplefilter(\"ignore\")"
   ]
  },
  {
   "cell_type": "code",
   "execution_count": null,
   "id": "348b8d17",
   "metadata": {},
   "outputs": [],
   "source": []
  },
  {
   "cell_type": "code",
   "execution_count": 2,
   "id": "ab620e0c",
   "metadata": {},
   "outputs": [
    {
     "data": {
      "text/plain": [
       "(768, 10)"
      ]
     },
     "execution_count": 2,
     "metadata": {},
     "output_type": "execute_result"
    }
   ],
   "source": [
    "dia=pd.read_csv(\"Diabetes.csv\")\n",
    "dia.head()\n",
    "dia['output']=\"NAN\"\n",
    "dia.head()\n",
    "dia.shape"
   ]
  },
  {
   "cell_type": "code",
   "execution_count": 3,
   "id": "3d3f5ea6",
   "metadata": {},
   "outputs": [],
   "source": [
    "for i in range(len(dia.index)):\n",
    "    if dia['Glucose'][i]>125:\n",
    "        dia['output'][i]=\"diabetic\"\n",
    "    elif 100<=dia['Glucose'][i]>=125:\n",
    "        dia['output'][i]=\"prediabetic\"\n",
    "    else: \n",
    "        dia['output'][i]=\"normal\""
   ]
  },
  {
   "cell_type": "code",
   "execution_count": 4,
   "id": "3eb40543",
   "metadata": {
    "scrolled": false
   },
   "outputs": [
    {
     "name": "stdout",
     "output_type": "stream",
     "text": [
      "374\n"
     ]
    }
   ],
   "source": [
    "# or else we can us applu function\n",
    "dia.head()\n",
    "count=(dia['Insulin']==0).sum()\n",
    "print(count)"
   ]
  },
  {
   "cell_type": "code",
   "execution_count": 5,
   "id": "e73dd114",
   "metadata": {},
   "outputs": [],
   "source": [
    "dia1=dia.copy()"
   ]
  },
  {
   "cell_type": "code",
   "execution_count": 6,
   "id": "142488a6",
   "metadata": {},
   "outputs": [],
   "source": [
    "dia1['output']=dia1['Glucose'].apply(lambda x:'diabetes' if x>125 else 'prediabetic' if 100<=x<=125 else 'normal')"
   ]
  },
  {
   "cell_type": "code",
   "execution_count": 7,
   "id": "8cbf5114",
   "metadata": {},
   "outputs": [
    {
     "data": {
      "text/html": [
       "<div>\n",
       "<style scoped>\n",
       "    .dataframe tbody tr th:only-of-type {\n",
       "        vertical-align: middle;\n",
       "    }\n",
       "\n",
       "    .dataframe tbody tr th {\n",
       "        vertical-align: top;\n",
       "    }\n",
       "\n",
       "    .dataframe thead th {\n",
       "        text-align: right;\n",
       "    }\n",
       "</style>\n",
       "<table border=\"1\" class=\"dataframe\">\n",
       "  <thead>\n",
       "    <tr style=\"text-align: right;\">\n",
       "      <th></th>\n",
       "      <th>Pregnancies</th>\n",
       "      <th>Glucose</th>\n",
       "      <th>BloodPressure</th>\n",
       "      <th>SkinThickness</th>\n",
       "      <th>Insulin</th>\n",
       "      <th>BMI</th>\n",
       "      <th>DiabetesPedigreeFunction</th>\n",
       "      <th>Age</th>\n",
       "      <th>Outcome</th>\n",
       "      <th>output</th>\n",
       "    </tr>\n",
       "  </thead>\n",
       "  <tbody>\n",
       "    <tr>\n",
       "      <th>0</th>\n",
       "      <td>6</td>\n",
       "      <td>148</td>\n",
       "      <td>72</td>\n",
       "      <td>35</td>\n",
       "      <td>0</td>\n",
       "      <td>33.6</td>\n",
       "      <td>0.627</td>\n",
       "      <td>50</td>\n",
       "      <td>1</td>\n",
       "      <td>diabetes</td>\n",
       "    </tr>\n",
       "    <tr>\n",
       "      <th>1</th>\n",
       "      <td>1</td>\n",
       "      <td>85</td>\n",
       "      <td>66</td>\n",
       "      <td>29</td>\n",
       "      <td>0</td>\n",
       "      <td>26.6</td>\n",
       "      <td>0.351</td>\n",
       "      <td>31</td>\n",
       "      <td>0</td>\n",
       "      <td>normal</td>\n",
       "    </tr>\n",
       "    <tr>\n",
       "      <th>2</th>\n",
       "      <td>8</td>\n",
       "      <td>183</td>\n",
       "      <td>64</td>\n",
       "      <td>0</td>\n",
       "      <td>0</td>\n",
       "      <td>23.3</td>\n",
       "      <td>0.672</td>\n",
       "      <td>32</td>\n",
       "      <td>1</td>\n",
       "      <td>diabetes</td>\n",
       "    </tr>\n",
       "    <tr>\n",
       "      <th>3</th>\n",
       "      <td>1</td>\n",
       "      <td>89</td>\n",
       "      <td>66</td>\n",
       "      <td>23</td>\n",
       "      <td>94</td>\n",
       "      <td>28.1</td>\n",
       "      <td>0.167</td>\n",
       "      <td>21</td>\n",
       "      <td>0</td>\n",
       "      <td>normal</td>\n",
       "    </tr>\n",
       "    <tr>\n",
       "      <th>4</th>\n",
       "      <td>0</td>\n",
       "      <td>137</td>\n",
       "      <td>40</td>\n",
       "      <td>35</td>\n",
       "      <td>168</td>\n",
       "      <td>43.1</td>\n",
       "      <td>2.288</td>\n",
       "      <td>33</td>\n",
       "      <td>1</td>\n",
       "      <td>diabetes</td>\n",
       "    </tr>\n",
       "  </tbody>\n",
       "</table>\n",
       "</div>"
      ],
      "text/plain": [
       "   Pregnancies  Glucose  BloodPressure  SkinThickness  Insulin   BMI  \\\n",
       "0            6      148             72             35        0  33.6   \n",
       "1            1       85             66             29        0  26.6   \n",
       "2            8      183             64              0        0  23.3   \n",
       "3            1       89             66             23       94  28.1   \n",
       "4            0      137             40             35      168  43.1   \n",
       "\n",
       "   DiabetesPedigreeFunction  Age  Outcome    output  \n",
       "0                     0.627   50        1  diabetes  \n",
       "1                     0.351   31        0    normal  \n",
       "2                     0.672   32        1  diabetes  \n",
       "3                     0.167   21        0    normal  \n",
       "4                     2.288   33        1  diabetes  "
      ]
     },
     "execution_count": 7,
     "metadata": {},
     "output_type": "execute_result"
    }
   ],
   "source": [
    "dia1.head()"
   ]
  },
  {
   "cell_type": "code",
   "execution_count": 8,
   "id": "cd1f355e",
   "metadata": {},
   "outputs": [],
   "source": [
    "dia['output']=dia['output'].replace('normal',0)\n",
    "dia['output']=dia['output'].replace('prediabetic',1)\n",
    "dia['output']=dia['output'].replace('diabetic',2)\n"
   ]
  },
  {
   "cell_type": "code",
   "execution_count": 9,
   "id": "ff5c70a3",
   "metadata": {},
   "outputs": [
    {
     "data": {
      "text/html": [
       "<div>\n",
       "<style scoped>\n",
       "    .dataframe tbody tr th:only-of-type {\n",
       "        vertical-align: middle;\n",
       "    }\n",
       "\n",
       "    .dataframe tbody tr th {\n",
       "        vertical-align: top;\n",
       "    }\n",
       "\n",
       "    .dataframe thead th {\n",
       "        text-align: right;\n",
       "    }\n",
       "</style>\n",
       "<table border=\"1\" class=\"dataframe\">\n",
       "  <thead>\n",
       "    <tr style=\"text-align: right;\">\n",
       "      <th></th>\n",
       "      <th>Pregnancies</th>\n",
       "      <th>Glucose</th>\n",
       "      <th>BloodPressure</th>\n",
       "      <th>SkinThickness</th>\n",
       "      <th>Insulin</th>\n",
       "      <th>BMI</th>\n",
       "      <th>DiabetesPedigreeFunction</th>\n",
       "      <th>Age</th>\n",
       "      <th>Outcome</th>\n",
       "      <th>output</th>\n",
       "    </tr>\n",
       "  </thead>\n",
       "  <tbody>\n",
       "    <tr>\n",
       "      <th>0</th>\n",
       "      <td>6</td>\n",
       "      <td>148</td>\n",
       "      <td>72</td>\n",
       "      <td>35</td>\n",
       "      <td>0</td>\n",
       "      <td>33.6</td>\n",
       "      <td>0.627</td>\n",
       "      <td>50</td>\n",
       "      <td>1</td>\n",
       "      <td>2</td>\n",
       "    </tr>\n",
       "    <tr>\n",
       "      <th>1</th>\n",
       "      <td>1</td>\n",
       "      <td>85</td>\n",
       "      <td>66</td>\n",
       "      <td>29</td>\n",
       "      <td>0</td>\n",
       "      <td>26.6</td>\n",
       "      <td>0.351</td>\n",
       "      <td>31</td>\n",
       "      <td>0</td>\n",
       "      <td>0</td>\n",
       "    </tr>\n",
       "    <tr>\n",
       "      <th>2</th>\n",
       "      <td>8</td>\n",
       "      <td>183</td>\n",
       "      <td>64</td>\n",
       "      <td>0</td>\n",
       "      <td>0</td>\n",
       "      <td>23.3</td>\n",
       "      <td>0.672</td>\n",
       "      <td>32</td>\n",
       "      <td>1</td>\n",
       "      <td>2</td>\n",
       "    </tr>\n",
       "    <tr>\n",
       "      <th>3</th>\n",
       "      <td>1</td>\n",
       "      <td>89</td>\n",
       "      <td>66</td>\n",
       "      <td>23</td>\n",
       "      <td>94</td>\n",
       "      <td>28.1</td>\n",
       "      <td>0.167</td>\n",
       "      <td>21</td>\n",
       "      <td>0</td>\n",
       "      <td>0</td>\n",
       "    </tr>\n",
       "    <tr>\n",
       "      <th>4</th>\n",
       "      <td>0</td>\n",
       "      <td>137</td>\n",
       "      <td>40</td>\n",
       "      <td>35</td>\n",
       "      <td>168</td>\n",
       "      <td>43.1</td>\n",
       "      <td>2.288</td>\n",
       "      <td>33</td>\n",
       "      <td>1</td>\n",
       "      <td>2</td>\n",
       "    </tr>\n",
       "  </tbody>\n",
       "</table>\n",
       "</div>"
      ],
      "text/plain": [
       "   Pregnancies  Glucose  BloodPressure  SkinThickness  Insulin   BMI  \\\n",
       "0            6      148             72             35        0  33.6   \n",
       "1            1       85             66             29        0  26.6   \n",
       "2            8      183             64              0        0  23.3   \n",
       "3            1       89             66             23       94  28.1   \n",
       "4            0      137             40             35      168  43.1   \n",
       "\n",
       "   DiabetesPedigreeFunction  Age  Outcome  output  \n",
       "0                     0.627   50        1       2  \n",
       "1                     0.351   31        0       0  \n",
       "2                     0.672   32        1       2  \n",
       "3                     0.167   21        0       0  \n",
       "4                     2.288   33        1       2  "
      ]
     },
     "execution_count": 9,
     "metadata": {},
     "output_type": "execute_result"
    }
   ],
   "source": [
    "dia.head()"
   ]
  },
  {
   "cell_type": "code",
   "execution_count": 10,
   "id": "e630f2e4",
   "metadata": {},
   "outputs": [
    {
     "data": {
      "text/html": [
       "<div>\n",
       "<style scoped>\n",
       "    .dataframe tbody tr th:only-of-type {\n",
       "        vertical-align: middle;\n",
       "    }\n",
       "\n",
       "    .dataframe tbody tr th {\n",
       "        vertical-align: top;\n",
       "    }\n",
       "\n",
       "    .dataframe thead th {\n",
       "        text-align: right;\n",
       "    }\n",
       "</style>\n",
       "<table border=\"1\" class=\"dataframe\">\n",
       "  <thead>\n",
       "    <tr style=\"text-align: right;\">\n",
       "      <th></th>\n",
       "      <th>Pregnancies</th>\n",
       "      <th>Glucose</th>\n",
       "      <th>BloodPressure</th>\n",
       "      <th>SkinThickness</th>\n",
       "      <th>Insulin</th>\n",
       "      <th>BMI</th>\n",
       "      <th>DiabetesPedigreeFunction</th>\n",
       "      <th>Age</th>\n",
       "      <th>Outcome</th>\n",
       "      <th>output</th>\n",
       "    </tr>\n",
       "  </thead>\n",
       "  <tbody>\n",
       "    <tr>\n",
       "      <th>0</th>\n",
       "      <td>6</td>\n",
       "      <td>148</td>\n",
       "      <td>72</td>\n",
       "      <td>35</td>\n",
       "      <td>0</td>\n",
       "      <td>33.6</td>\n",
       "      <td>0.627</td>\n",
       "      <td>50</td>\n",
       "      <td>1</td>\n",
       "      <td>2</td>\n",
       "    </tr>\n",
       "    <tr>\n",
       "      <th>1</th>\n",
       "      <td>1</td>\n",
       "      <td>85</td>\n",
       "      <td>66</td>\n",
       "      <td>29</td>\n",
       "      <td>0</td>\n",
       "      <td>26.6</td>\n",
       "      <td>0.351</td>\n",
       "      <td>31</td>\n",
       "      <td>0</td>\n",
       "      <td>0</td>\n",
       "    </tr>\n",
       "    <tr>\n",
       "      <th>2</th>\n",
       "      <td>8</td>\n",
       "      <td>183</td>\n",
       "      <td>64</td>\n",
       "      <td>0</td>\n",
       "      <td>0</td>\n",
       "      <td>23.3</td>\n",
       "      <td>0.672</td>\n",
       "      <td>32</td>\n",
       "      <td>1</td>\n",
       "      <td>2</td>\n",
       "    </tr>\n",
       "    <tr>\n",
       "      <th>3</th>\n",
       "      <td>1</td>\n",
       "      <td>89</td>\n",
       "      <td>66</td>\n",
       "      <td>23</td>\n",
       "      <td>94</td>\n",
       "      <td>28.1</td>\n",
       "      <td>0.167</td>\n",
       "      <td>21</td>\n",
       "      <td>0</td>\n",
       "      <td>0</td>\n",
       "    </tr>\n",
       "    <tr>\n",
       "      <th>4</th>\n",
       "      <td>0</td>\n",
       "      <td>137</td>\n",
       "      <td>40</td>\n",
       "      <td>35</td>\n",
       "      <td>168</td>\n",
       "      <td>43.1</td>\n",
       "      <td>2.288</td>\n",
       "      <td>33</td>\n",
       "      <td>1</td>\n",
       "      <td>2</td>\n",
       "    </tr>\n",
       "    <tr>\n",
       "      <th>...</th>\n",
       "      <td>...</td>\n",
       "      <td>...</td>\n",
       "      <td>...</td>\n",
       "      <td>...</td>\n",
       "      <td>...</td>\n",
       "      <td>...</td>\n",
       "      <td>...</td>\n",
       "      <td>...</td>\n",
       "      <td>...</td>\n",
       "      <td>...</td>\n",
       "    </tr>\n",
       "    <tr>\n",
       "      <th>763</th>\n",
       "      <td>10</td>\n",
       "      <td>101</td>\n",
       "      <td>76</td>\n",
       "      <td>48</td>\n",
       "      <td>180</td>\n",
       "      <td>32.9</td>\n",
       "      <td>0.171</td>\n",
       "      <td>63</td>\n",
       "      <td>0</td>\n",
       "      <td>1</td>\n",
       "    </tr>\n",
       "    <tr>\n",
       "      <th>764</th>\n",
       "      <td>2</td>\n",
       "      <td>122</td>\n",
       "      <td>70</td>\n",
       "      <td>27</td>\n",
       "      <td>0</td>\n",
       "      <td>36.8</td>\n",
       "      <td>0.340</td>\n",
       "      <td>27</td>\n",
       "      <td>0</td>\n",
       "      <td>1</td>\n",
       "    </tr>\n",
       "    <tr>\n",
       "      <th>765</th>\n",
       "      <td>5</td>\n",
       "      <td>121</td>\n",
       "      <td>72</td>\n",
       "      <td>23</td>\n",
       "      <td>112</td>\n",
       "      <td>26.2</td>\n",
       "      <td>0.245</td>\n",
       "      <td>30</td>\n",
       "      <td>0</td>\n",
       "      <td>1</td>\n",
       "    </tr>\n",
       "    <tr>\n",
       "      <th>766</th>\n",
       "      <td>1</td>\n",
       "      <td>126</td>\n",
       "      <td>60</td>\n",
       "      <td>0</td>\n",
       "      <td>0</td>\n",
       "      <td>30.1</td>\n",
       "      <td>0.349</td>\n",
       "      <td>47</td>\n",
       "      <td>1</td>\n",
       "      <td>2</td>\n",
       "    </tr>\n",
       "    <tr>\n",
       "      <th>767</th>\n",
       "      <td>1</td>\n",
       "      <td>93</td>\n",
       "      <td>70</td>\n",
       "      <td>31</td>\n",
       "      <td>0</td>\n",
       "      <td>30.4</td>\n",
       "      <td>0.315</td>\n",
       "      <td>23</td>\n",
       "      <td>0</td>\n",
       "      <td>0</td>\n",
       "    </tr>\n",
       "  </tbody>\n",
       "</table>\n",
       "<p>768 rows × 10 columns</p>\n",
       "</div>"
      ],
      "text/plain": [
       "     Pregnancies  Glucose  BloodPressure  SkinThickness  Insulin   BMI  \\\n",
       "0              6      148             72             35        0  33.6   \n",
       "1              1       85             66             29        0  26.6   \n",
       "2              8      183             64              0        0  23.3   \n",
       "3              1       89             66             23       94  28.1   \n",
       "4              0      137             40             35      168  43.1   \n",
       "..           ...      ...            ...            ...      ...   ...   \n",
       "763           10      101             76             48      180  32.9   \n",
       "764            2      122             70             27        0  36.8   \n",
       "765            5      121             72             23      112  26.2   \n",
       "766            1      126             60              0        0  30.1   \n",
       "767            1       93             70             31        0  30.4   \n",
       "\n",
       "     DiabetesPedigreeFunction  Age  Outcome  output  \n",
       "0                       0.627   50        1       2  \n",
       "1                       0.351   31        0       0  \n",
       "2                       0.672   32        1       2  \n",
       "3                       0.167   21        0       0  \n",
       "4                       2.288   33        1       2  \n",
       "..                        ...  ...      ...     ...  \n",
       "763                     0.171   63        0       1  \n",
       "764                     0.340   27        0       1  \n",
       "765                     0.245   30        0       1  \n",
       "766                     0.349   47        1       2  \n",
       "767                     0.315   23        0       0  \n",
       "\n",
       "[768 rows x 10 columns]"
      ]
     },
     "execution_count": 10,
     "metadata": {},
     "output_type": "execute_result"
    }
   ],
   "source": [
    "#or else we can use dictinaries\n",
    "dia1.replace({'output':{'normal':0,'prediabetic':1,'diabetes':2,}})\n"
   ]
  },
  {
   "cell_type": "code",
   "execution_count": 11,
   "id": "c4f2a6f7",
   "metadata": {},
   "outputs": [],
   "source": [
    "\n",
    "dia['Glucose']=dia[ 'Glucose'].replace(0,np.NAN)\n",
    "dia.dropna(inplace=True)\n"
   ]
  },
  {
   "cell_type": "code",
   "execution_count": 12,
   "id": "f7cb0929",
   "metadata": {},
   "outputs": [
    {
     "data": {
      "text/plain": [
       "(763, 10)"
      ]
     },
     "execution_count": 12,
     "metadata": {},
     "output_type": "execute_result"
    }
   ],
   "source": [
    "dia.shape"
   ]
  },
  {
   "cell_type": "code",
   "execution_count": 13,
   "id": "c1f9607a",
   "metadata": {},
   "outputs": [],
   "source": [
    "dia=dia[['Glucose','Insulin','output']]"
   ]
  },
  {
   "cell_type": "code",
   "execution_count": 14,
   "id": "213c24b4",
   "metadata": {},
   "outputs": [],
   "source": [
    "dia.to_csv('diabetes22.csv',index=False)"
   ]
  },
  {
   "cell_type": "code",
   "execution_count": null,
   "id": "243a1efb",
   "metadata": {
    "scrolled": true
   },
   "outputs": [],
   "source": []
  },
  {
   "cell_type": "code",
   "execution_count": 15,
   "id": "d8552e03",
   "metadata": {},
   "outputs": [
    {
     "data": {
      "text/html": [
       "<div>\n",
       "<style scoped>\n",
       "    .dataframe tbody tr th:only-of-type {\n",
       "        vertical-align: middle;\n",
       "    }\n",
       "\n",
       "    .dataframe tbody tr th {\n",
       "        vertical-align: top;\n",
       "    }\n",
       "\n",
       "    .dataframe thead th {\n",
       "        text-align: right;\n",
       "    }\n",
       "</style>\n",
       "<table border=\"1\" class=\"dataframe\">\n",
       "  <thead>\n",
       "    <tr style=\"text-align: right;\">\n",
       "      <th></th>\n",
       "      <th>Pregnancies</th>\n",
       "      <th>Glucose</th>\n",
       "      <th>BloodPressure</th>\n",
       "      <th>SkinThickness</th>\n",
       "      <th>Insulin</th>\n",
       "      <th>BMI</th>\n",
       "      <th>DiabetesPedigreeFunction</th>\n",
       "      <th>Age</th>\n",
       "      <th>Outcome</th>\n",
       "    </tr>\n",
       "  </thead>\n",
       "  <tbody>\n",
       "    <tr>\n",
       "      <th>0</th>\n",
       "      <td>6</td>\n",
       "      <td>148</td>\n",
       "      <td>72</td>\n",
       "      <td>35</td>\n",
       "      <td>0</td>\n",
       "      <td>33.6</td>\n",
       "      <td>0.627</td>\n",
       "      <td>50</td>\n",
       "      <td>1</td>\n",
       "    </tr>\n",
       "    <tr>\n",
       "      <th>1</th>\n",
       "      <td>1</td>\n",
       "      <td>85</td>\n",
       "      <td>66</td>\n",
       "      <td>29</td>\n",
       "      <td>0</td>\n",
       "      <td>26.6</td>\n",
       "      <td>0.351</td>\n",
       "      <td>31</td>\n",
       "      <td>0</td>\n",
       "    </tr>\n",
       "    <tr>\n",
       "      <th>2</th>\n",
       "      <td>8</td>\n",
       "      <td>183</td>\n",
       "      <td>64</td>\n",
       "      <td>0</td>\n",
       "      <td>0</td>\n",
       "      <td>23.3</td>\n",
       "      <td>0.672</td>\n",
       "      <td>32</td>\n",
       "      <td>1</td>\n",
       "    </tr>\n",
       "    <tr>\n",
       "      <th>3</th>\n",
       "      <td>1</td>\n",
       "      <td>89</td>\n",
       "      <td>66</td>\n",
       "      <td>23</td>\n",
       "      <td>94</td>\n",
       "      <td>28.1</td>\n",
       "      <td>0.167</td>\n",
       "      <td>21</td>\n",
       "      <td>0</td>\n",
       "    </tr>\n",
       "    <tr>\n",
       "      <th>4</th>\n",
       "      <td>0</td>\n",
       "      <td>137</td>\n",
       "      <td>40</td>\n",
       "      <td>35</td>\n",
       "      <td>168</td>\n",
       "      <td>43.1</td>\n",
       "      <td>2.288</td>\n",
       "      <td>33</td>\n",
       "      <td>1</td>\n",
       "    </tr>\n",
       "  </tbody>\n",
       "</table>\n",
       "</div>"
      ],
      "text/plain": [
       "   Pregnancies  Glucose  BloodPressure  SkinThickness  Insulin   BMI  \\\n",
       "0            6      148             72             35        0  33.6   \n",
       "1            1       85             66             29        0  26.6   \n",
       "2            8      183             64              0        0  23.3   \n",
       "3            1       89             66             23       94  28.1   \n",
       "4            0      137             40             35      168  43.1   \n",
       "\n",
       "   DiabetesPedigreeFunction  Age  Outcome  \n",
       "0                     0.627   50        1  \n",
       "1                     0.351   31        0  \n",
       "2                     0.672   32        1  \n",
       "3                     0.167   21        0  \n",
       "4                     2.288   33        1  "
      ]
     },
     "execution_count": 15,
     "metadata": {},
     "output_type": "execute_result"
    }
   ],
   "source": [
    "dia2=pd.read_csv(\"Diabetes.csv\")\n",
    "dia2.head()\n"
   ]
  },
  {
   "cell_type": "code",
   "execution_count": 16,
   "id": "ea0ee4df",
   "metadata": {},
   "outputs": [
    {
     "data": {
      "text/plain": [
       "(768, 3)"
      ]
     },
     "execution_count": 16,
     "metadata": {},
     "output_type": "execute_result"
    }
   ],
   "source": [
    "data=dia2[['Glucose','Insulin','Outcome']]\n",
    "data.shape"
   ]
  },
  {
   "cell_type": "code",
   "execution_count": 17,
   "id": "a8e4130d",
   "metadata": {},
   "outputs": [],
   "source": [
    "data['Glucose']=data[ 'Glucose'].replace(0,np.NAN)\n",
    "data.dropna(inplace=True)\n",
    "\n",
    "data.to_csv(\"diabetis22.csv\",index=False)"
   ]
  },
  {
   "cell_type": "code",
   "execution_count": 18,
   "id": "b8830c17",
   "metadata": {},
   "outputs": [
    {
     "data": {
      "text/html": [
       "<div>\n",
       "<style scoped>\n",
       "    .dataframe tbody tr th:only-of-type {\n",
       "        vertical-align: middle;\n",
       "    }\n",
       "\n",
       "    .dataframe tbody tr th {\n",
       "        vertical-align: top;\n",
       "    }\n",
       "\n",
       "    .dataframe thead th {\n",
       "        text-align: right;\n",
       "    }\n",
       "</style>\n",
       "<table border=\"1\" class=\"dataframe\">\n",
       "  <thead>\n",
       "    <tr style=\"text-align: right;\">\n",
       "      <th></th>\n",
       "      <th>Glucose</th>\n",
       "      <th>Insulin</th>\n",
       "      <th>Outcome</th>\n",
       "    </tr>\n",
       "  </thead>\n",
       "  <tbody>\n",
       "    <tr>\n",
       "      <th>0</th>\n",
       "      <td>148.0</td>\n",
       "      <td>0</td>\n",
       "      <td>1</td>\n",
       "    </tr>\n",
       "    <tr>\n",
       "      <th>1</th>\n",
       "      <td>85.0</td>\n",
       "      <td>0</td>\n",
       "      <td>0</td>\n",
       "    </tr>\n",
       "    <tr>\n",
       "      <th>2</th>\n",
       "      <td>183.0</td>\n",
       "      <td>0</td>\n",
       "      <td>1</td>\n",
       "    </tr>\n",
       "    <tr>\n",
       "      <th>3</th>\n",
       "      <td>89.0</td>\n",
       "      <td>94</td>\n",
       "      <td>0</td>\n",
       "    </tr>\n",
       "    <tr>\n",
       "      <th>4</th>\n",
       "      <td>137.0</td>\n",
       "      <td>168</td>\n",
       "      <td>1</td>\n",
       "    </tr>\n",
       "  </tbody>\n",
       "</table>\n",
       "</div>"
      ],
      "text/plain": [
       "   Glucose  Insulin  Outcome\n",
       "0    148.0        0        1\n",
       "1     85.0        0        0\n",
       "2    183.0        0        1\n",
       "3     89.0       94        0\n",
       "4    137.0      168        1"
      ]
     },
     "execution_count": 18,
     "metadata": {},
     "output_type": "execute_result"
    }
   ],
   "source": [
    "data.head()"
   ]
  },
  {
   "cell_type": "code",
   "execution_count": 19,
   "id": "e3f61b72",
   "metadata": {
    "scrolled": false
   },
   "outputs": [
    {
     "data": {
      "text/html": [
       "<div>\n",
       "<style scoped>\n",
       "    .dataframe tbody tr th:only-of-type {\n",
       "        vertical-align: middle;\n",
       "    }\n",
       "\n",
       "    .dataframe tbody tr th {\n",
       "        vertical-align: top;\n",
       "    }\n",
       "\n",
       "    .dataframe thead th {\n",
       "        text-align: right;\n",
       "    }\n",
       "</style>\n",
       "<table border=\"1\" class=\"dataframe\">\n",
       "  <thead>\n",
       "    <tr style=\"text-align: right;\">\n",
       "      <th></th>\n",
       "      <th>Glucose</th>\n",
       "      <th>Outcome</th>\n",
       "    </tr>\n",
       "  </thead>\n",
       "  <tbody>\n",
       "    <tr>\n",
       "      <th>0</th>\n",
       "      <td>148.0</td>\n",
       "      <td>1</td>\n",
       "    </tr>\n",
       "    <tr>\n",
       "      <th>1</th>\n",
       "      <td>85.0</td>\n",
       "      <td>0</td>\n",
       "    </tr>\n",
       "    <tr>\n",
       "      <th>2</th>\n",
       "      <td>183.0</td>\n",
       "      <td>1</td>\n",
       "    </tr>\n",
       "    <tr>\n",
       "      <th>5</th>\n",
       "      <td>116.0</td>\n",
       "      <td>0</td>\n",
       "    </tr>\n",
       "    <tr>\n",
       "      <th>7</th>\n",
       "      <td>115.0</td>\n",
       "      <td>0</td>\n",
       "    </tr>\n",
       "    <tr>\n",
       "      <th>...</th>\n",
       "      <td>...</td>\n",
       "      <td>...</td>\n",
       "    </tr>\n",
       "    <tr>\n",
       "      <th>761</th>\n",
       "      <td>170.0</td>\n",
       "      <td>1</td>\n",
       "    </tr>\n",
       "    <tr>\n",
       "      <th>762</th>\n",
       "      <td>89.0</td>\n",
       "      <td>0</td>\n",
       "    </tr>\n",
       "    <tr>\n",
       "      <th>764</th>\n",
       "      <td>122.0</td>\n",
       "      <td>0</td>\n",
       "    </tr>\n",
       "    <tr>\n",
       "      <th>766</th>\n",
       "      <td>126.0</td>\n",
       "      <td>1</td>\n",
       "    </tr>\n",
       "    <tr>\n",
       "      <th>767</th>\n",
       "      <td>93.0</td>\n",
       "      <td>0</td>\n",
       "    </tr>\n",
       "  </tbody>\n",
       "</table>\n",
       "<p>370 rows × 2 columns</p>\n",
       "</div>"
      ],
      "text/plain": [
       "     Glucose  Outcome\n",
       "0      148.0        1\n",
       "1       85.0        0\n",
       "2      183.0        1\n",
       "5      116.0        0\n",
       "7      115.0        0\n",
       "..       ...      ...\n",
       "761    170.0        1\n",
       "762     89.0        0\n",
       "764    122.0        0\n",
       "766    126.0        1\n",
       "767     93.0        0\n",
       "\n",
       "[370 rows x 2 columns]"
      ]
     },
     "execution_count": 19,
     "metadata": {},
     "output_type": "execute_result"
    }
   ],
   "source": [
    "fr=data[data['Insulin']==0]\n",
    "fr.to_csv('predict.csv',index=False)\n",
    "sr=fr.iloc[:,fr.columns!='Insulin']\n",
    "sr"
   ]
  },
  {
   "cell_type": "code",
   "execution_count": 20,
   "id": "e9d0ce1a",
   "metadata": {
    "scrolled": true
   },
   "outputs": [
    {
     "data": {
      "text/html": [
       "<div>\n",
       "<style scoped>\n",
       "    .dataframe tbody tr th:only-of-type {\n",
       "        vertical-align: middle;\n",
       "    }\n",
       "\n",
       "    .dataframe tbody tr th {\n",
       "        vertical-align: top;\n",
       "    }\n",
       "\n",
       "    .dataframe thead th {\n",
       "        text-align: right;\n",
       "    }\n",
       "</style>\n",
       "<table border=\"1\" class=\"dataframe\">\n",
       "  <thead>\n",
       "    <tr style=\"text-align: right;\">\n",
       "      <th></th>\n",
       "      <th>Glucose</th>\n",
       "      <th>Insulin</th>\n",
       "      <th>Outcome</th>\n",
       "    </tr>\n",
       "  </thead>\n",
       "  <tbody>\n",
       "    <tr>\n",
       "      <th>3</th>\n",
       "      <td>89.0</td>\n",
       "      <td>94</td>\n",
       "      <td>0</td>\n",
       "    </tr>\n",
       "    <tr>\n",
       "      <th>4</th>\n",
       "      <td>137.0</td>\n",
       "      <td>168</td>\n",
       "      <td>1</td>\n",
       "    </tr>\n",
       "    <tr>\n",
       "      <th>6</th>\n",
       "      <td>78.0</td>\n",
       "      <td>88</td>\n",
       "      <td>1</td>\n",
       "    </tr>\n",
       "    <tr>\n",
       "      <th>8</th>\n",
       "      <td>197.0</td>\n",
       "      <td>543</td>\n",
       "      <td>1</td>\n",
       "    </tr>\n",
       "    <tr>\n",
       "      <th>13</th>\n",
       "      <td>189.0</td>\n",
       "      <td>846</td>\n",
       "      <td>1</td>\n",
       "    </tr>\n",
       "  </tbody>\n",
       "</table>\n",
       "</div>"
      ],
      "text/plain": [
       "    Glucose  Insulin  Outcome\n",
       "3      89.0       94        0\n",
       "4     137.0      168        1\n",
       "6      78.0       88        1\n",
       "8     197.0      543        1\n",
       "13    189.0      846        1"
      ]
     },
     "execution_count": 20,
     "metadata": {},
     "output_type": "execute_result"
    }
   ],
   "source": [
    "kr=data[data['Insulin']!=0]\n",
    "kr.head()"
   ]
  },
  {
   "cell_type": "code",
   "execution_count": 21,
   "id": "9c3bce34",
   "metadata": {
    "scrolled": false
   },
   "outputs": [
    {
     "data": {
      "text/plain": [
       "(393, 1)"
      ]
     },
     "execution_count": 21,
     "metadata": {},
     "output_type": "execute_result"
    }
   ],
   "source": [
    "x=kr.loc[:,kr.columns!='Insulin']\n",
    "y=kr.drop(['Glucose','Outcome'],axis=1)\n",
    "y.shape"
   ]
  },
  {
   "cell_type": "code",
   "execution_count": 22,
   "id": "064b6ecc",
   "metadata": {},
   "outputs": [],
   "source": [
    "from sklearn.model_selection import train_test_split\n",
    "from sklearn.linear_model import LinearRegression\n",
    "from sklearn.metrics import confusion_matrix,accuracy_score,r2_score,mean_squared_error,mean_absolute_error,classification_report"
   ]
  },
  {
   "cell_type": "code",
   "execution_count": 23,
   "id": "af2de061",
   "metadata": {},
   "outputs": [],
   "source": [
    "x_train,x_test,y_train,y_test = train_test_split(x,y,test_size=0.2,random_state=123)"
   ]
  },
  {
   "cell_type": "code",
   "execution_count": 24,
   "id": "155e4e7f",
   "metadata": {
    "scrolled": true
   },
   "outputs": [
    {
     "name": "stdout",
     "output_type": "stream",
     "text": [
      "[[188.94602561]\n",
      " [167.8478944 ]\n",
      " [191.29026241]\n",
      " [210.85417935]\n",
      " [231.14228802]\n",
      " [174.8806048 ]\n",
      " [174.8806048 ]\n",
      " [295.24670418]\n",
      " [104.55350077]\n",
      " [106.89773757]\n",
      " [158.47094719]\n",
      " [ 74.07842236]\n",
      " [167.8478944 ]\n",
      " [186.60178881]\n",
      " [196.78875854]\n",
      " [167.8478944 ]\n",
      " [227.26383695]\n",
      " [135.83860172]\n",
      " [238.98502096]\n",
      " [166.31368013]\n",
      " [240.51923523]\n",
      " [104.55350077]\n",
      " [160.815184  ]\n",
      " [ 60.82302409]\n",
      " [213.19841615]\n",
      " [128.80589132]\n",
      " [ 45.94758075]\n",
      " [314.00059859]\n",
      " [ 78.76689596]\n",
      " [104.55350077]\n",
      " [ 69.38994876]\n",
      " [170.1921312 ]\n",
      " [106.89773757]\n",
      " [127.99586878]\n",
      " [109.24197437]\n",
      " [281.18128338]\n",
      " [215.54265295]\n",
      " [ 92.83231677]\n",
      " [ 95.17655357]\n",
      " [106.89773757]\n",
      " [278.83704658]\n",
      " [311.65636179]\n",
      " [149.09399999]\n",
      " [233.48652482]\n",
      " [224.10957762]\n",
      " [212.38839362]\n",
      " [120.96315838]\n",
      " [146.74976319]\n",
      " [139.71705279]\n",
      " [250.70620496]\n",
      " [113.93044798]\n",
      " [135.02857918]\n",
      " [117.08470731]\n",
      " [177.2248416 ]\n",
      " [170.1921312 ]\n",
      " [207.69992001]\n",
      " [ 38.91487035]\n",
      " [ 67.04571196]\n",
      " [ 78.76689596]\n",
      " [144.40552639]\n",
      " [106.89773757]\n",
      " [210.04415681]\n",
      " [107.70776011]\n",
      " [ 99.86502717]\n",
      " [ 78.76689596]\n",
      " [113.93044798]\n",
      " [151.43823679]\n",
      " [ 67.04571196]\n",
      " [158.47094719]\n",
      " [ 76.42265916]\n",
      " [332.754493  ]\n",
      " [ 81.11113276]\n",
      " [187.41181134]\n",
      " [199.13299534]\n",
      " [ 52.98029115]\n",
      " [196.78875854]\n",
      " [111.58621118]\n",
      " [ 45.94758075]\n",
      " [201.47723214]]      Insulin\n",
      "428      145\n",
      "478       75\n",
      "285      135\n",
      "301      135\n",
      "744      140\n",
      "..       ...\n",
      "534       56\n",
      "614      144\n",
      "741       94\n",
      "234       45\n",
      "375      325\n",
      "\n",
      "[79 rows x 1 columns]\n",
      "(314, 2)\n",
      "(79, 2)\n",
      "(314, 1)\n",
      "(79, 1)\n"
     ]
    }
   ],
   "source": [
    "ref=LinearRegression()\n",
    "model=ref.fit(x_train,y_train)\n",
    "\n",
    "y_pred=ref.predict(x_test)\n",
    "print(y_pred,y_test)\n",
    "print (x_train.shape)\n",
    "print (x_test.shape)\n",
    "print (y_train.shape)\n",
    "print (y_test.shape)"
   ]
  },
  {
   "cell_type": "code",
   "execution_count": 25,
   "id": "380cbf86",
   "metadata": {},
   "outputs": [
    {
     "data": {
      "text/plain": [
       "0.3465317922908909"
      ]
     },
     "execution_count": 25,
     "metadata": {},
     "output_type": "execute_result"
    }
   ],
   "source": [
    "model.score(x_train,y_train)"
   ]
  },
  {
   "cell_type": "code",
   "execution_count": 26,
   "id": "b9d40859",
   "metadata": {},
   "outputs": [
    {
     "name": "stdout",
     "output_type": "stream",
     "text": [
      "0.1986203328248607\n",
      "6212.247926662154\n"
     ]
    }
   ],
   "source": [
    "print(r2_score(y_test,y_pred))\n",
    "print(mean_squared_error(y_test,y_pred))"
   ]
  },
  {
   "cell_type": "code",
   "execution_count": 27,
   "id": "5acf0a8d",
   "metadata": {
    "scrolled": true
   },
   "outputs": [
    {
     "name": "stdout",
     "output_type": "stream",
     "text": [
      "[[211]]\n"
     ]
    }
   ],
   "source": [
    "newdf=pd.DataFrame([[144,2]])\n",
    "prediction=ref.predict(newdf)\n",
    "print(prediction.astype(int))"
   ]
  },
  {
   "cell_type": "code",
   "execution_count": 28,
   "id": "b5088ff1",
   "metadata": {
    "scrolled": false
   },
   "outputs": [],
   "source": [
    "insulin=ref.predict(sr)\n",
    "##print(insulin)"
   ]
  },
  {
   "cell_type": "code",
   "execution_count": 29,
   "id": "ab2f56ce",
   "metadata": {},
   "outputs": [
    {
     "data": {
      "text/html": [
       "<div>\n",
       "<style scoped>\n",
       "    .dataframe tbody tr th:only-of-type {\n",
       "        vertical-align: middle;\n",
       "    }\n",
       "\n",
       "    .dataframe tbody tr th {\n",
       "        vertical-align: top;\n",
       "    }\n",
       "\n",
       "    .dataframe thead th {\n",
       "        text-align: right;\n",
       "    }\n",
       "</style>\n",
       "<table border=\"1\" class=\"dataframe\">\n",
       "  <thead>\n",
       "    <tr style=\"text-align: right;\">\n",
       "      <th></th>\n",
       "      <th>Glucose</th>\n",
       "      <th>Insulin</th>\n",
       "      <th>output</th>\n",
       "    </tr>\n",
       "  </thead>\n",
       "  <tbody>\n",
       "    <tr>\n",
       "      <th>0</th>\n",
       "      <td>148.0</td>\n",
       "      <td>0</td>\n",
       "      <td>2</td>\n",
       "    </tr>\n",
       "    <tr>\n",
       "      <th>1</th>\n",
       "      <td>85.0</td>\n",
       "      <td>0</td>\n",
       "      <td>0</td>\n",
       "    </tr>\n",
       "    <tr>\n",
       "      <th>2</th>\n",
       "      <td>183.0</td>\n",
       "      <td>0</td>\n",
       "      <td>2</td>\n",
       "    </tr>\n",
       "    <tr>\n",
       "      <th>3</th>\n",
       "      <td>89.0</td>\n",
       "      <td>94</td>\n",
       "      <td>0</td>\n",
       "    </tr>\n",
       "    <tr>\n",
       "      <th>4</th>\n",
       "      <td>137.0</td>\n",
       "      <td>168</td>\n",
       "      <td>2</td>\n",
       "    </tr>\n",
       "    <tr>\n",
       "      <th>...</th>\n",
       "      <td>...</td>\n",
       "      <td>...</td>\n",
       "      <td>...</td>\n",
       "    </tr>\n",
       "    <tr>\n",
       "      <th>758</th>\n",
       "      <td>101.0</td>\n",
       "      <td>180</td>\n",
       "      <td>0</td>\n",
       "    </tr>\n",
       "    <tr>\n",
       "      <th>759</th>\n",
       "      <td>122.0</td>\n",
       "      <td>0</td>\n",
       "      <td>0</td>\n",
       "    </tr>\n",
       "    <tr>\n",
       "      <th>760</th>\n",
       "      <td>121.0</td>\n",
       "      <td>112</td>\n",
       "      <td>0</td>\n",
       "    </tr>\n",
       "    <tr>\n",
       "      <th>761</th>\n",
       "      <td>126.0</td>\n",
       "      <td>0</td>\n",
       "      <td>2</td>\n",
       "    </tr>\n",
       "    <tr>\n",
       "      <th>762</th>\n",
       "      <td>93.0</td>\n",
       "      <td>0</td>\n",
       "      <td>0</td>\n",
       "    </tr>\n",
       "  </tbody>\n",
       "</table>\n",
       "<p>763 rows × 3 columns</p>\n",
       "</div>"
      ],
      "text/plain": [
       "     Glucose  Insulin  output\n",
       "0      148.0        0       2\n",
       "1       85.0        0       0\n",
       "2      183.0        0       2\n",
       "3       89.0       94       0\n",
       "4      137.0      168       2\n",
       "..       ...      ...     ...\n",
       "758    101.0      180       0\n",
       "759    122.0        0       0\n",
       "760    121.0      112       0\n",
       "761    126.0        0       2\n",
       "762     93.0        0       0\n",
       "\n",
       "[763 rows x 3 columns]"
      ]
     },
     "execution_count": 29,
     "metadata": {},
     "output_type": "execute_result"
    }
   ],
   "source": [
    "r=pd.read_csv('diabetes22.csv')\n",
    "r"
   ]
  },
  {
   "cell_type": "code",
   "execution_count": 30,
   "id": "42a49c73",
   "metadata": {
    "scrolled": true
   },
   "outputs": [
    {
     "data": {
      "text/html": [
       "<div>\n",
       "<style scoped>\n",
       "    .dataframe tbody tr th:only-of-type {\n",
       "        vertical-align: middle;\n",
       "    }\n",
       "\n",
       "    .dataframe tbody tr th {\n",
       "        vertical-align: top;\n",
       "    }\n",
       "\n",
       "    .dataframe thead th {\n",
       "        text-align: right;\n",
       "    }\n",
       "</style>\n",
       "<table border=\"1\" class=\"dataframe\">\n",
       "  <thead>\n",
       "    <tr style=\"text-align: right;\">\n",
       "      <th></th>\n",
       "      <th>Glucose</th>\n",
       "      <th>Insulin</th>\n",
       "      <th>output</th>\n",
       "    </tr>\n",
       "  </thead>\n",
       "  <tbody>\n",
       "    <tr>\n",
       "      <th>0</th>\n",
       "      <td>148.0</td>\n",
       "      <td>0</td>\n",
       "      <td>2</td>\n",
       "    </tr>\n",
       "    <tr>\n",
       "      <th>1</th>\n",
       "      <td>85.0</td>\n",
       "      <td>0</td>\n",
       "      <td>0</td>\n",
       "    </tr>\n",
       "    <tr>\n",
       "      <th>2</th>\n",
       "      <td>183.0</td>\n",
       "      <td>0</td>\n",
       "      <td>2</td>\n",
       "    </tr>\n",
       "    <tr>\n",
       "      <th>5</th>\n",
       "      <td>116.0</td>\n",
       "      <td>0</td>\n",
       "      <td>0</td>\n",
       "    </tr>\n",
       "    <tr>\n",
       "      <th>7</th>\n",
       "      <td>115.0</td>\n",
       "      <td>0</td>\n",
       "      <td>0</td>\n",
       "    </tr>\n",
       "    <tr>\n",
       "      <th>...</th>\n",
       "      <td>...</td>\n",
       "      <td>...</td>\n",
       "      <td>...</td>\n",
       "    </tr>\n",
       "    <tr>\n",
       "      <th>756</th>\n",
       "      <td>170.0</td>\n",
       "      <td>0</td>\n",
       "      <td>2</td>\n",
       "    </tr>\n",
       "    <tr>\n",
       "      <th>757</th>\n",
       "      <td>89.0</td>\n",
       "      <td>0</td>\n",
       "      <td>0</td>\n",
       "    </tr>\n",
       "    <tr>\n",
       "      <th>759</th>\n",
       "      <td>122.0</td>\n",
       "      <td>0</td>\n",
       "      <td>0</td>\n",
       "    </tr>\n",
       "    <tr>\n",
       "      <th>761</th>\n",
       "      <td>126.0</td>\n",
       "      <td>0</td>\n",
       "      <td>2</td>\n",
       "    </tr>\n",
       "    <tr>\n",
       "      <th>762</th>\n",
       "      <td>93.0</td>\n",
       "      <td>0</td>\n",
       "      <td>0</td>\n",
       "    </tr>\n",
       "  </tbody>\n",
       "</table>\n",
       "<p>370 rows × 3 columns</p>\n",
       "</div>"
      ],
      "text/plain": [
       "     Glucose  Insulin  output\n",
       "0      148.0        0       2\n",
       "1       85.0        0       0\n",
       "2      183.0        0       2\n",
       "5      116.0        0       0\n",
       "7      115.0        0       0\n",
       "..       ...      ...     ...\n",
       "756    170.0        0       2\n",
       "757     89.0        0       0\n",
       "759    122.0        0       0\n",
       "761    126.0        0       2\n",
       "762     93.0        0       0\n",
       "\n",
       "[370 rows x 3 columns]"
      ]
     },
     "execution_count": 30,
     "metadata": {},
     "output_type": "execute_result"
    }
   ],
   "source": [
    "l=r[r['Insulin']==0]\n",
    "l"
   ]
  },
  {
   "cell_type": "code",
   "execution_count": 31,
   "id": "464558d1",
   "metadata": {},
   "outputs": [],
   "source": [
    "j=0\n",
    "for i in range(len(r.index)):\n",
    "    if r['Insulin'][i]==0:\n",
    "        r['Insulin'][i]=insulin[j]\n",
    "        j=j+1"
   ]
  },
  {
   "cell_type": "code",
   "execution_count": 32,
   "id": "b1b79de0",
   "metadata": {},
   "outputs": [],
   "source": [
    "r.to_csv(\"finaldata.csv\",index=False)"
   ]
  },
  {
   "cell_type": "code",
   "execution_count": 33,
   "id": "b58f1799",
   "metadata": {},
   "outputs": [],
   "source": [
    "##classification\n",
    "\n"
   ]
  },
  {
   "cell_type": "code",
   "execution_count": 34,
   "id": "b6e5e363",
   "metadata": {
    "scrolled": true
   },
   "outputs": [
    {
     "data": {
      "text/plain": [
       "(763, 3)"
      ]
     },
     "execution_count": 34,
     "metadata": {},
     "output_type": "execute_result"
    }
   ],
   "source": [
    "\n",
    "fina=pd.read_csv(\"finaldata.csv\")\n",
    "\n",
    "fina.shape\n"
   ]
  },
  {
   "cell_type": "code",
   "execution_count": 35,
   "id": "c0d65483",
   "metadata": {},
   "outputs": [
    {
     "data": {
      "text/html": [
       "<div>\n",
       "<style scoped>\n",
       "    .dataframe tbody tr th:only-of-type {\n",
       "        vertical-align: middle;\n",
       "    }\n",
       "\n",
       "    .dataframe tbody tr th {\n",
       "        vertical-align: top;\n",
       "    }\n",
       "\n",
       "    .dataframe thead th {\n",
       "        text-align: right;\n",
       "    }\n",
       "</style>\n",
       "<table border=\"1\" class=\"dataframe\">\n",
       "  <thead>\n",
       "    <tr style=\"text-align: right;\">\n",
       "      <th></th>\n",
       "      <th>Glucose</th>\n",
       "      <th>Insulin</th>\n",
       "      <th>output</th>\n",
       "    </tr>\n",
       "  </thead>\n",
       "  <tbody>\n",
       "    <tr>\n",
       "      <th>0</th>\n",
       "      <td>148.0</td>\n",
       "      <td>220</td>\n",
       "      <td>2</td>\n",
       "    </tr>\n",
       "    <tr>\n",
       "      <th>1</th>\n",
       "      <td>85.0</td>\n",
       "      <td>71</td>\n",
       "      <td>0</td>\n",
       "    </tr>\n",
       "    <tr>\n",
       "      <th>2</th>\n",
       "      <td>183.0</td>\n",
       "      <td>302</td>\n",
       "      <td>2</td>\n",
       "    </tr>\n",
       "    <tr>\n",
       "      <th>3</th>\n",
       "      <td>89.0</td>\n",
       "      <td>94</td>\n",
       "      <td>0</td>\n",
       "    </tr>\n",
       "    <tr>\n",
       "      <th>4</th>\n",
       "      <td>137.0</td>\n",
       "      <td>168</td>\n",
       "      <td>2</td>\n",
       "    </tr>\n",
       "    <tr>\n",
       "      <th>...</th>\n",
       "      <td>...</td>\n",
       "      <td>...</td>\n",
       "      <td>...</td>\n",
       "    </tr>\n",
       "    <tr>\n",
       "      <th>758</th>\n",
       "      <td>101.0</td>\n",
       "      <td>180</td>\n",
       "      <td>0</td>\n",
       "    </tr>\n",
       "    <tr>\n",
       "      <th>759</th>\n",
       "      <td>122.0</td>\n",
       "      <td>158</td>\n",
       "      <td>0</td>\n",
       "    </tr>\n",
       "    <tr>\n",
       "      <th>760</th>\n",
       "      <td>121.0</td>\n",
       "      <td>112</td>\n",
       "      <td>0</td>\n",
       "    </tr>\n",
       "    <tr>\n",
       "      <th>761</th>\n",
       "      <td>126.0</td>\n",
       "      <td>168</td>\n",
       "      <td>2</td>\n",
       "    </tr>\n",
       "    <tr>\n",
       "      <th>762</th>\n",
       "      <td>93.0</td>\n",
       "      <td>90</td>\n",
       "      <td>0</td>\n",
       "    </tr>\n",
       "  </tbody>\n",
       "</table>\n",
       "<p>763 rows × 3 columns</p>\n",
       "</div>"
      ],
      "text/plain": [
       "     Glucose  Insulin  output\n",
       "0      148.0      220       2\n",
       "1       85.0       71       0\n",
       "2      183.0      302       2\n",
       "3       89.0       94       0\n",
       "4      137.0      168       2\n",
       "..       ...      ...     ...\n",
       "758    101.0      180       0\n",
       "759    122.0      158       0\n",
       "760    121.0      112       0\n",
       "761    126.0      168       2\n",
       "762     93.0       90       0\n",
       "\n",
       "[763 rows x 3 columns]"
      ]
     },
     "execution_count": 35,
     "metadata": {},
     "output_type": "execute_result"
    }
   ],
   "source": [
    "X=fina.loc[:,fina.columns!='output']\n",
    "Y=fina['output']\n",
    "\n",
    "fina"
   ]
  },
  {
   "cell_type": "code",
   "execution_count": 36,
   "id": "3b218857",
   "metadata": {},
   "outputs": [],
   "source": [
    "\n",
    "X_train,X_test,Y_train,Y_test = train_test_split(X,Y,test_size=0.2,random_state=123)"
   ]
  },
  {
   "cell_type": "code",
   "execution_count": 37,
   "id": "b4b3a87f",
   "metadata": {},
   "outputs": [],
   "source": [
    "from sklearn import preprocessing\n",
    "scaler = preprocessing.StandardScaler()\n",
    "X_train_scaled=scaler.fit_transform(X_train)\n",
    "X_test_scaled=scaler.transform(X_test)\n"
   ]
  },
  {
   "cell_type": "code",
   "execution_count": 38,
   "id": "6bdf889a",
   "metadata": {},
   "outputs": [
    {
     "data": {
      "text/plain": [
       "KNeighborsClassifier()"
      ]
     },
     "execution_count": 38,
     "metadata": {},
     "output_type": "execute_result"
    }
   ],
   "source": [
    "from sklearn.neighbors import KNeighborsClassifier\n",
    "\n",
    "modal = KNeighborsClassifier()\n",
    "modal.fit(X_train_scaled,Y_train)"
   ]
  },
  {
   "cell_type": "code",
   "execution_count": 39,
   "id": "3c23da9a",
   "metadata": {},
   "outputs": [
    {
     "data": {
      "text/plain": [
       "(610, 2)"
      ]
     },
     "execution_count": 39,
     "metadata": {},
     "output_type": "execute_result"
    }
   ],
   "source": [
    "Y_pred=modal.predict(X_test_scaled)\n",
    "##print(Y_test,Y_pred)\n",
    "\n",
    "\n",
    "X_train_scaled.shape\n"
   ]
  },
  {
   "cell_type": "code",
   "execution_count": 40,
   "id": "2683cfe8",
   "metadata": {},
   "outputs": [],
   "source": [
    "\n",
    "ac1=accuracy_score(Y_test,Y_pred)*100"
   ]
  },
  {
   "cell_type": "code",
   "execution_count": 41,
   "id": "691cc9e4",
   "metadata": {},
   "outputs": [
    {
     "data": {
      "text/plain": [
       "<AxesSubplot:>"
      ]
     },
     "execution_count": 41,
     "metadata": {},
     "output_type": "execute_result"
    },
    {
     "data": {
      "image/png": "[encoded data removed]",
      "text/plain": [
       "<Figure size 432x288 with 2 Axes>"
      ]
     },
     "metadata": {
      "needs_background": "light"
     },
     "output_type": "display_data"
    }
   ],
   "source": [
    "sb.heatmap(confusion_matrix(Y_test,Y_pred),annot=True)"
   ]
  },
  {
   "cell_type": "code",
   "execution_count": 42,
   "id": "355a998c",
   "metadata": {},
   "outputs": [],
   "source": [
    "\n",
    "from sklearn.linear_model import LogisticRegression\n",
    "classifier7 = LogisticRegression()\n",
    "classifier7.fit(X_train_scaled,Y_train)\n",
    "Y_lopred=classifier7.predict(X_test_scaled)\n",
    "##print(Y_test,Y_lopred)"
   ]
  },
  {
   "cell_type": "code",
   "execution_count": 43,
   "id": "3c601752",
   "metadata": {},
   "outputs": [
    {
     "data": {
      "text/plain": [
       "<AxesSubplot:>"
      ]
     },
     "execution_count": 43,
     "metadata": {},
     "output_type": "execute_result"
    },
    {
     "data": {
      "image/png": "[encoded data removed]",
      "text/plain": [
       "<Figure size 432x288 with 2 Axes>"
      ]
     },
     "metadata": {
      "needs_background": "light"
     },
     "output_type": "display_data"
    }
   ],
   "source": [
    "sb.heatmap(confusion_matrix(Y_test,Y_lopred),annot=True)"
   ]
  },
  {
   "cell_type": "code",
   "execution_count": 44,
   "id": "f01bda18",
   "metadata": {},
   "outputs": [],
   "source": [
    "classification_report(Y_test,Y_lopred)\n",
    "\n",
    "ac2=accuracy_score(Y_test,Y_lopred)*100"
   ]
  },
  {
   "cell_type": "code",
   "execution_count": null,
   "id": "bed334ad",
   "metadata": {},
   "outputs": [],
   "source": []
  },
  {
   "cell_type": "code",
   "execution_count": 45,
   "id": "65802e7c",
   "metadata": {
    "scrolled": true
   },
   "outputs": [],
   "source": [
    "\n",
    "from sklearn.naive_bayes import GaussianNB\n",
    "\n",
    "#Create a Gaussian Classifier\n",
    "gausmodal = GaussianNB()\n",
    "\n",
    "# Train the model using the training sets\n",
    "gausmodal .fit(X_train_scaled,Y_train)\n",
    "\n",
    "#Predict Output\n",
    "Y_gaupred= gausmodal.predict(X_test_scaled) "
   ]
  },
  {
   "cell_type": "code",
   "execution_count": 46,
   "id": "17df27b9",
   "metadata": {},
   "outputs": [
    {
     "data": {
      "text/plain": [
       "<AxesSubplot:>"
      ]
     },
     "execution_count": 46,
     "metadata": {},
     "output_type": "execute_result"
    },
    {
     "data": {
      "image/png": "[encoded data removed]",
      "text/plain": [
       "<Figure size 432x288 with 2 Axes>"
      ]
     },
     "metadata": {
      "needs_background": "light"
     },
     "output_type": "display_data"
    }
   ],
   "source": [
    "sb.heatmap(confusion_matrix(Y_test,Y_gaupred),annot=True)"
   ]
  },
  {
   "cell_type": "code",
   "execution_count": 47,
   "id": "ca30c2bc",
   "metadata": {},
   "outputs": [],
   "source": [
    "classification_report(Y_test,Y_gaupred)\n",
    "\n",
    "ac3=accuracy_score(Y_test,Y_gaupred)*100"
   ]
  },
  {
   "cell_type": "code",
   "execution_count": 48,
   "id": "1e1fd76e",
   "metadata": {},
   "outputs": [
    {
     "data": {
      "text/plain": [
       "<AxesSubplot:xlabel='output', ylabel='count'>"
      ]
     },
     "execution_count": 48,
     "metadata": {},
     "output_type": "execute_result"
    },
    {
     "data": {
      "image/png": "[encoded data removed]",
      "text/plain": [
       "<Figure size 432x288 with 1 Axes>"
      ]
     },
     "metadata": {
      "needs_background": "light"
     },
     "output_type": "display_data"
    }
   ],
   "source": [
    "sb.countplot(x='output',data=fina)"
   ]
  },
  {
   "cell_type": "code",
   "execution_count": 49,
   "id": "b1eff69d",
   "metadata": {},
   "outputs": [
    {
     "data": {
      "text/plain": [
       "DecisionTreeClassifier(max_depth=3, min_samples_leaf=5, random_state=42)"
      ]
     },
     "execution_count": 49,
     "metadata": {},
     "output_type": "execute_result"
    }
   ],
   "source": [
    "\n",
    "from sklearn.tree import DecisionTreeClassifier\n",
    "clf_model = DecisionTreeClassifier(criterion=\"gini\", random_state=42,max_depth=3, min_samples_leaf=5)   \n",
    "clf_model.fit(X_train_scaled,Y_train)"
   ]
  },
  {
   "cell_type": "code",
   "execution_count": 50,
   "id": "a0249a2c",
   "metadata": {},
   "outputs": [],
   "source": [
    "Y_de=clf_model.predict(X_test_scaled)\n"
   ]
  },
  {
   "cell_type": "code",
   "execution_count": 51,
   "id": "64f78117",
   "metadata": {},
   "outputs": [
    {
     "data": {
      "text/plain": [
       "<AxesSubplot:>"
      ]
     },
     "execution_count": 51,
     "metadata": {},
     "output_type": "execute_result"
    },
    {
     "data": {
      "image/png": "[encoded data removed]",
      "text/plain": [
       "<Figure size 432x288 with 2 Axes>"
      ]
     },
     "metadata": {
      "needs_background": "light"
     },
     "output_type": "display_data"
    }
   ],
   "source": [
    "sb.heatmap(confusion_matrix(Y_test,Y_de),annot=True)"
   ]
  },
  {
   "cell_type": "code",
   "execution_count": 52,
   "id": "063ef61e",
   "metadata": {},
   "outputs": [],
   "source": [
    "ac4=accuracy_score(Y_test,Y_de)*100"
   ]
  },
  {
   "cell_type": "code",
   "execution_count": 53,
   "id": "fe4b1c73",
   "metadata": {},
   "outputs": [
    {
     "data": {
      "text/plain": [
       "SVC(kernel='linear')"
      ]
     },
     "execution_count": 53,
     "metadata": {},
     "output_type": "execute_result"
    }
   ],
   "source": [
    "from sklearn.svm import SVC\n",
    "svclassifier = SVC(kernel='linear')\n",
    "svclassifier.fit(X_train_scaled, Y_train)"
   ]
  },
  {
   "cell_type": "code",
   "execution_count": 54,
   "id": "bfed56b9",
   "metadata": {},
   "outputs": [],
   "source": [
    "y__pred = svclassifier.predict(X_test_scaled)"
   ]
  },
  {
   "cell_type": "code",
   "execution_count": 55,
   "id": "7292a1a2",
   "metadata": {
    "scrolled": true
   },
   "outputs": [
    {
     "data": {
      "text/plain": [
       "<AxesSubplot:>"
      ]
     },
     "execution_count": 55,
     "metadata": {},
     "output_type": "execute_result"
    },
    {
     "data": {
      "image/png": "[encoded data removed]",
      "text/plain": [
       "<Figure size 432x288 with 2 Axes>"
      ]
     },
     "metadata": {
      "needs_background": "light"
     },
     "output_type": "display_data"
    }
   ],
   "source": [
    "sb.heatmap(confusion_matrix(Y_test,y__pred),annot=True)"
   ]
  },
  {
   "cell_type": "code",
   "execution_count": 56,
   "id": "f07957d6",
   "metadata": {},
   "outputs": [],
   "source": [
    "ac5=accuracy_score(Y_test,y__pred)*100\n"
   ]
  },
  {
   "cell_type": "code",
   "execution_count": 57,
   "id": "edd3b48f",
   "metadata": {},
   "outputs": [],
   "source": [
    "from sklearn.ensemble import RandomForestClassifier\n",
    "\n",
    "#Create a Gaussian Classifier\n",
    "clf=RandomForestClassifier(n_estimators=100)\n",
    "\n",
    "#Train the model using the training sets y_pred=clf.predict(X_test)\n",
    "clf.fit(X_train_scaled,Y_train)\n",
    "\n",
    "y_pred=clf.predict(X_test_scaled)\n"
   ]
  },
  {
   "cell_type": "code",
   "execution_count": 58,
   "id": "2ad3585a",
   "metadata": {},
   "outputs": [
    {
     "data": {
      "text/plain": [
       "<AxesSubplot:>"
      ]
     },
     "execution_count": 58,
     "metadata": {},
     "output_type": "execute_result"
    },
    {
     "data": {
      "image/png": "[encoded data removed]",
      "text/plain": [
       "<Figure size 432x288 with 2 Axes>"
      ]
     },
     "metadata": {
      "needs_background": "light"
     },
     "output_type": "display_data"
    }
   ],
   "source": [
    "sb.heatmap(confusion_matrix(y_pred,Y_test),annot=True)"
   ]
  },
  {
   "cell_type": "code",
   "execution_count": 59,
   "id": "b4416d34",
   "metadata": {
    "scrolled": true
   },
   "outputs": [],
   "source": [
    "ac6=accuracy_score(Y_test,y_pred)*100"
   ]
  },
  {
   "cell_type": "code",
   "execution_count": 60,
   "id": "c7bf1788",
   "metadata": {},
   "outputs": [],
   "source": [
    "import pickle as pk"
   ]
  },
  {
   "cell_type": "code",
   "execution_count": 61,
   "id": "80ecc601",
   "metadata": {},
   "outputs": [],
   "source": [
    "#feature scaling\n",
    "pk.dump(scaler,open('scaler.pkl','wb'))\n",
    "#k - neighbour\n",
    "pk.dump(modal,open('modal.pkl','wb'))\n",
    "#logistic\n",
    "pk.dump(classifier7,open('classifier7.pkl','wb'))\n",
    "#gaussiannb\n",
    "pk.dump(gausmodal,open('gausmodal.pkl','wb'))\n",
    "#svm\n",
    "pk.dump(svclassifier,open('svclassifier.pkl','wb'))"
   ]
  },
  {
   "cell_type": "code",
   "execution_count": 62,
   "id": "1a34b77f",
   "metadata": {},
   "outputs": [],
   "source": [
    "sc=pk.load(open('scaler.pkl','rb'))\n",
    "KAR=pk.load(open('modal.pkl','rb'))\n",
    "ritesh=pk.load(open('classifier7.pkl','rb'))\n",
    "likky=pk.load(open('gausmodal.pkl','rb'))\n",
    "gundesh=pk.load(open('svclassifier.pkl','rb'))\n",
    "results=[ac1,ac2,ac3,ac5]\n",
    "names=[\"knn\",\"logistic\",\"gauunvb\",\"svm\"]"
   ]
  },
  {
   "cell_type": "code",
   "execution_count": 154,
   "id": "c0cc0575",
   "metadata": {},
   "outputs": [
    {
     "name": "stdout",
     "output_type": "stream",
     "text": [
      "results 122 121\n",
      "results 122 121\n",
      "results 122 1211\n",
      "results 131 121\n"
     ]
    }
   ],
   "source": [
    "from tkinniter import *\n",
    "import tkinter.messagebox\n",
    "import customtkinter\n",
    "import sys\n",
    "from PIL import Image, ImageTk# <- import PIL for the images\n",
    "from tkinter.ttk import *\n",
    "import matplotlib as plt\n",
    "#from .customtkinter_theme_manager import CTkThemeManager\n",
    "\n",
    "\n",
    "\n",
    "customtkinter.set_appearance_mode(\"dark\")\n",
    "\n",
    "customtkinter.set_default_color_theme(\"blue\")# Themes: \"blue\" (standard), \"green\", \"dark-blue\"\n",
    "\n",
    "top=customtkinter.CTk()\n",
    "\n",
    "\n",
    "top.geometry(\"720x720\")\n",
    "top.title(\"Diabetes prediction\")\n",
    "image = Image.open(r\"C:\\Users\\SAI\\Desktop\\21600_ccexpress.png\").resize((2000,1000))\n",
    "bg_image = ImageTk.PhotoImage(image)\n",
    "image1 = Image.open(r\"C:\\Users\\SAI\\Desktop\\green-plus-icon-489361.png\").resize((40,40))\n",
    "bg_image1 = ImageTk.PhotoImage(image1)\n",
    "image3 = Image.open(r\"C:\\Users\\SAI\\Downloads\\svm_conf.png\").resize((500,400))\n",
    "bg_image3 = ImageTk.PhotoImage(image3)\n",
    "   \n",
    "def change_mode():\n",
    "        if check_box_2.get() == 1:\n",
    "            customtkinter.set_appearance_mode(\"dark\")\n",
    "        else:\n",
    "            customtkinter.set_appearance_mode(\"light\")\n",
    "\n",
    "check_box_2 = customtkinter.CTkCheckBox(master=top,text=\"Toggle\",command=change_mode)\n",
    "check_box_2.grid(row=7, column=0, pady=10, padx=20, sticky=\"w\")\n",
    "\n",
    "def do_something():\n",
    "    tkinter.messagebox.showinfo(\"ERROR\",\" 0 levels that means you are not alive anymore \" u\" \\u2620 \" u\" \\u2620...\")\n",
    "def button1():\n",
    "    top1=customtkinter.CTkToplevel()\n",
    "    customtkinter.set_appearance_mode(\"dark\")\n",
    "    top1.geometry(\"1600x1080\")\n",
    "    top1.title(\"Diabetes report\")\n",
    "    X1=float(entry.get())\n",
    "    Y1=float(entry1.get())\n",
    "    ha=sc.transform(np.array([[X1,Y1]]))\n",
    "    pred1=likky.predict(ha)\n",
    "    pred2=ritesh.predict(ha)\n",
    "    pred3=gundesh.predict(ha)\n",
    "    pred4=KAR.predict(ha)\n",
    "    k1=\"👉According to the ek-neihghbour algorithm ,you have a chance of being {pro} \".format( pro=\"diabetic\" if int(pred1)==2 else \"prediabetic\" if int(pred1)==1 else \"normal\")\n",
    "    k2=\"👉According to the logistic algorithm ,you have a chance of being {pro} \".format( pro=\"diabetic\" if int(pred2)==2 else \"prediabetic\" if int(pred1)==1 else \"normal\")\n",
    "    k3=\"👉According to the gaussiannb algorithm ,you have a chance of being {pro} \".format( pro=\"diabetic\" if int(pred3)==2 else \"prediabetic\" if int(pred1)==1 else \"normal\")\n",
    "    k4=\"👉According to the svm algorithm ,you have a chance of being {pro} \".format( pro=\"diabetic\" if int(pred4)==2 else \"prediabetic\" if int(pred1)==1 else \"normal\")\n",
    "        \n",
    "        \n",
    "    def change_mode1():\n",
    "        if check_box_1.get() == 1:\n",
    "            customtkinter.set_appearance_mode(\"light\")\n",
    "            \n",
    "            \n",
    "        else:\n",
    "            customtkinter.set_appearance_mode(\"dark\")\n",
    "            \n",
    "    image_label1 = tkinter.Label(master=top1, image=bg_image)\n",
    "    image_label1.place(relx=0.5, rely=0.5, anchor=tkinter.CENTER)\n",
    "    image_label3 = customtkinter.CTkLabel(master=top1,text=\"{}\\n\\n{}\\n\\n{}\\n\\n{}\".format(k1,k2,k3,k4),width=550,height=250,corner_radius=8)\n",
    "    image_label3.place(relx=0.6, rely=0.2, anchor=tkinter.CENTER)\n",
    "    plot= tkinter.Label(master=top1, image=bg_image3)\n",
    "    plot.place(relx=0.6, rely=0.7, anchor=tkinter.CENTER)\n",
    "       \n",
    "    check_box_1 = customtkinter.CTkCheckBox(master=top1,text=\"T\",command=change_mode1)\n",
    "    check_box_1.grid(row=7, column=5, pady=10, padx=20, sticky=\"w\")\n",
    "    #rep1=\"acording to the k-neighbours algoritm ,you are \"\n",
    "    \n",
    "    \n",
    "def button():\n",
    "    if entry.get()==str(0) or entry1.get() == str(0):\n",
    "        do_something()\n",
    "    elif  len(entry.get())==0:\n",
    "        tkinter.messagebox.showinfo(\"ERROR\",\"PLEASE ENTER THE VALUES \"u\"\\U0001F643 \"u\"\\U0001F643\")\n",
    "\n",
    "    else:\n",
    "        X1=float(entry.get())\n",
    "        Y1=float(entry1.get())\n",
    "        ha=sc.transform(np.array([[X1,Y1]]))\n",
    "        pred1=likky.predict(ha)\n",
    "        pred2=ritesh.predict(ha)\n",
    "        pred3=gundesh.predict(ha)\n",
    "        pred4=KAR.predict(ha)\n",
    "        A=np.array([int(pred1),int(pred2),int(pred3),int(pred4)])\n",
    "        C=A[A!=0]\n",
    "        res=(len(C)/4)*100\n",
    "\n",
    "        print(\"results\",entry.get(),entry1.get())\n",
    "        if res<=45:\n",
    "            color=\"#5EA880\"\n",
    "        elif(45<res<=75):\n",
    "            color=\"#FF7F50\"\n",
    "        else:\n",
    "            color=\"#FF0000\"\n",
    "            \n",
    "        outputLabel=customtkinter.CTkLabel(master=top,text=\"you have {} percent of chance of being diabetic\".format(res),width=350,height=30,corner_radius=10,fg_color=(\"white\", \"gray20\"),text_color=color)\n",
    "        outputLabel.place(relx=0.5, rely=0.65,anchor=tkinter.CENTER)\n",
    "\n",
    "frame = customtkinter.CTkFrame(master=top,width=320,height=720,corner_radius=10)\n",
    "frame.place(relx=0.5, rely=0.5, anchor=tkinter.CENTER)\n",
    "\n",
    "frame1 = customtkinter.CTkFrame(master=top,width=1080,height=300,corner_radius=10)\n",
    "frame1.place(relx=0.5, rely=0.5, anchor=tkinter.CENTER)\n",
    "\n",
    "label = customtkinter.CTkLabel(master=top,text=\"1.GLUCOSE\",width=100,height=25,corner_radius=5)\n",
    "\n",
    "label.place(relx=0.35, rely=0.34, anchor=tkinter.CENTER)\n",
    "entry = customtkinter.CTkEntry(master=top,placeholder_text=\"Let me know your glucose values\",width=250,height=25,corner_radius=10)\n",
    "entry.place(relx=0.45, rely=0.39, anchor=tkinter.CENTER)\n",
    "text1 = entry.get()\n",
    "\n",
    "\n",
    "label1 = customtkinter.CTkLabel(master=top,text=\"2.INSULIN\",width=100,height=25,corner_radius=5)\n",
    "\n",
    "label1.place(relx=0.35, rely=0.48, anchor=tkinter.CENTER)\n",
    "entry1 = customtkinter.CTkEntry(master=top,placeholder_text=\"Let me know your insulin values\",width=250,height=25,corner_radius=10)\n",
    "entry1.place(relx=0.45, rely=0.53, anchor=tkinter.CENTER)\n",
    "text2 = entry1.get()\n",
    "button=customtkinter.CTkButton(top,text=\"CHECK\",image=bg_image1,compound=(\"left\"),command=button,fg_color=( \"lightgray\",\"gray\"),hover_color= \"#458577\",border_width=3,corner_radius=6)\n",
    "button.place(relx=0.5, rely=0.75,anchor=tkinter.CENTER)\n",
    "\n",
    "button1=customtkinter.CTkButton(top,text=\"👇Click me for more details of 👇\\n ml models/report\",hover_color= \"#458577\",command=button1,border_width=2,corner_radius=5)\n",
    "button1.place(relx=0.5, rely=0.85,anchor=tkinter.CENTER)\n",
    "progressbar = customtkinter.CTkProgressBar(master=top,width=160,height=20,border_width=5)\n",
    "progressbar.place(relx=0.5, rely=0.6, anchor=tkinter.CENTER)\n",
    "progressbar.set(True)\n",
    "\n",
    "\n",
    "top.mainloop()\n",
    "\n"
   ]
  },
  {
   "cell_type": "code",
   "execution_count": null,
   "id": "cebbaddb",
   "metadata": {},
   "outputs": [],
   "source": []
  },
  {
   "cell_type": "code",
   "execution_count": 98,
   "id": "3034d70e",
   "metadata": {
    "scrolled": true
   },
   "outputs": [
    {
     "data": {
      "image/png": "[encoded data removed]",
      "text/plain": [
       "<Figure size 432x288 with 1 Axes>"
      ]
     },
     "metadata": {},
     "output_type": "display_data"
    }
   ],
   "source": [
    "\n",
    "# read a titanic.csv file\n",
    "# from seaborn library\n",
    "plt.figure()\n",
    "\n",
    "sb.set_style('darkgrid')\n",
    "x=[float(ac1)/100,float(ac2)/100,float(ac3)/100,float(ac5)/100]\n",
    "y=[\"k-nn\",\"Logistic\", \"Gaussian nb\", \"SVM\"]\n",
    "\n",
    "svm=sb.barplot(y,x)\n",
    "plt.ylim([0.90,1.0])\n",
    "plt.xlabel(\"ML algorithms\")\n",
    "plt.ylabel(\"TestAccuracy\")\n",
    "plt.show()\n",
    "\n",
    "figure = svm.get_figure()    \n",
    "figure.savefig('svm_conf.png', dpi=400)\n"
   ]
  },
  {
   "cell_type": "code",
   "execution_count": null,
   "id": "c475a509",
   "metadata": {},
   "outputs": [],
   "source": []
  }
 ],
 "metadata": {
  "kernelspec": {
   "display_name": "Python 3 (ipykernel)",
   "language": "python",
   "name": "python3"
  },
  "language_info": {
   "codemirror_mode": {
    "name": "ipython",
    "version": 3
   },
   "file_extension": ".py",
   "mimetype": "text/x-python",
   "name": "python",
   "nbconvert_exporter": "python",
   "pygments_lexer": "ipython3",
   "version": "3.9.7"
  }
 },
 "nbformat": 4,
 "nbformat_minor": 5
}
